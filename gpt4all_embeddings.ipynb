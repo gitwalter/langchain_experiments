{
 "cells": [
  {
   "cell_type": "code",
   "execution_count": 10,
   "metadata": {},
   "outputs": [],
   "source": [
    "from langchain.chains import RetrievalQA\n",
    "from langchain.document_loaders import PyPDFLoader\n",
    "from langchain.document_loaders import WebBaseLoader\n",
    "from langchain.embeddings import HuggingFaceEmbeddings\n",
    "from langchain.llms import GPT4All\n",
    "from langchain.text_splitter import RecursiveCharacterTextSplitter\n",
    "from langchain.vectorstores import Chroma\n",
    "from pdf2image import convert_from_path\n",
    "\n",
    "\n",
    "loader = WebBaseLoader(\"https://github.com/SAP/styleguides/blob/main/clean-abap/CleanABAP.md\")\n",
    "data = loader.load()\n",
    "\n",
    "\n",
    "text_splitter = RecursiveCharacterTextSplitter(chunk_size=500, chunk_overlap=3)\n",
    "texts = text_splitter.split_documents(data)\n",
    "\n",
    "##PDF\n",
    "# loader = PyPDFLoader(\"C://Users/pogawal/WorkFolder/Documents/Python Scripts/langchain_experiments/2023_Annual_Report.pdf\")\n",
    "# loader = PyPDFLoader(\"C://Users/pogawal/WorkFolder/Documents/Python Scripts/langchain_experiments/2023_Annual_Report.pdf\")\n",
    "# documents = loader.load_and_split()\n",
    "\n",
    "\n",
    "\n",
    "# text_splitter = RecursiveCharacterTextSplitter(\n",
    "#     chunk_size=1024,\n",
    "#     chunk_overlap=64\n",
    "# )\n",
    "# texts = text_splitter.split_documents(documents)\n"
   ]
  },
  {
   "cell_type": "code",
   "execution_count": 3,
   "metadata": {},
   "outputs": [
    {
     "data": {
      "text/plain": [
       "8"
      ]
     },
     "execution_count": 3,
     "metadata": {},
     "output_type": "execute_result"
    }
   ],
   "source": [
    "len(texts)"
   ]
  },
  {
   "cell_type": "code",
   "execution_count": 4,
   "metadata": {},
   "outputs": [
    {
     "name": "stderr",
     "output_type": "stream",
     "text": [
      "c:\\App\\Anaconda\\Lib\\site-packages\\tqdm\\auto.py:21: TqdmWarning: IProgress not found. Please update jupyter and ipywidgets. See https://ipywidgets.readthedocs.io/en/stable/user_install.html\n",
      "  from .autonotebook import tqdm as notebook_tqdm\n"
     ]
    }
   ],
   "source": [
    "embeddings = HuggingFaceEmbeddings(\n",
    "    model_name=\"sentence-transformers/all-MiniLM-L6-v2\"\n",
    ")\n",
    "llm_path = \"C://Users/pogawal/AppData/Local/nomic.ai/GPT4All/gpt4all-falcon-newbpe-q4_0.gguf\"\n",
    "\n",
    "llm = GPT4All(\n",
    "    model=llm_path,\n",
    "    backend=\"gptj\",\n",
    "    verbose=False\n",
    ")"
   ]
  },
  {
   "cell_type": "code",
   "execution_count": 22,
   "metadata": {},
   "outputs": [
    {
     "name": "stdout",
     "output_type": "stream",
     "text": [
      "0.6565375536484352\n",
      "0.4976050388323227\n",
      "0.46362199656619735\n"
     ]
    }
   ],
   "source": [
    "sentence1 = \"tigers\"\n",
    "sentence2 = \"lions\"\n",
    "sentence3 = \"dogs\"\n",
    "embedding1 = embeddings.embed_query(sentence1)\n",
    "embedding2 = embeddings.embed_query(sentence2)\n",
    "embedding3 = embeddings.embed_query(sentence3)\n",
    "import numpy as np\n",
    "\n",
    "print(np.dot(embedding1,embedding2))\n",
    "print(np.dot(embedding1,embedding3))\n",
    "print(np.dot(embedding2,embedding3))"
   ]
  },
  {
   "cell_type": "code",
   "execution_count": 5,
   "metadata": {},
   "outputs": [],
   "source": [
    "texts = [\n",
    "    \"\"\"The Amanita phalloides has a large and imposing epigeous (aboveground) fruiting body (basidiocarp).\"\"\",\n",
    "    \"\"\"A mushroom with a large fruiting body is the Amanita phalloides. Some varieties are all-white.\"\"\",\n",
    "    \"\"\"A. phalloides, a.k.a Death Cap, is one of the most poisonous of all known mushrooms.\"\"\",\n",
    "]\n",
    "smalldb = Chroma.from_texts(texts, embedding=embeddings)"
   ]
  },
  {
   "cell_type": "code",
   "execution_count": 7,
   "metadata": {},
   "outputs": [
    {
     "data": {
      "text/plain": [
       "[Document(page_content='A mushroom with a large fruiting body is the Amanita phalloides. Some varieties are all-white.'),\n",
       " Document(page_content='A. phalloides, a.k.a Death Cap, is one of the most poisonous of all known mushrooms.')]"
      ]
     },
     "execution_count": 7,
     "metadata": {},
     "output_type": "execute_result"
    }
   ],
   "source": [
    "question = \"Tell me about all-white mushrooms with large fruiting bodies\"\n",
    "smalldb.similarity_search(question, k=2)"
   ]
  },
  {
   "cell_type": "code",
   "execution_count": 8,
   "metadata": {},
   "outputs": [
    {
     "data": {
      "text/plain": [
       "[Document(page_content='A mushroom with a large fruiting body is the Amanita phalloides. Some varieties are all-white.'),\n",
       " Document(page_content='A. phalloides, a.k.a Death Cap, is one of the most poisonous of all known mushrooms.')]"
      ]
     },
     "execution_count": 8,
     "metadata": {},
     "output_type": "execute_result"
    }
   ],
   "source": [
    "smalldb.max_marginal_relevance_search(question,k=2, fetch_k=3)"
   ]
  },
  {
   "cell_type": "code",
   "execution_count": 11,
   "metadata": {},
   "outputs": [],
   "source": [
    "db = Chroma.from_documents(texts, embeddings, persist_directory=\"db\")"
   ]
  },
  {
   "cell_type": "code",
   "execution_count": 29,
   "metadata": {},
   "outputs": [
    {
     "data": {
      "text/plain": [
       "Document(page_content='available evidence.', metadata={'page': 50, 'source': 'C://Users/pogawal/WorkFolder/Documents/Python Scripts/langchain_experiments/2023_Annual_Report.pdf'})"
      ]
     },
     "execution_count": 29,
     "metadata": {},
     "output_type": "execute_result"
    }
   ],
   "source": [
    "question = 'are there dogs?'\n",
    "docs = db.similarity_search(question,k=3)"
   ]
  },
  {
   "cell_type": "code",
   "execution_count": 30,
   "metadata": {},
   "outputs": [
    {
     "data": {
      "text/plain": [
       "[Document(page_content='available evidence.', metadata={'page': 50, 'source': 'C://Users/pogawal/WorkFolder/Documents/Python Scripts/langchain_experiments/2023_Annual_Report.pdf'}),\n",
       " Document(page_content='available evidence.', metadata={'page': 50, 'source': 'C://Users/pogawal/WorkFolder/Documents/Python Scripts/langchain_experiments/2023_Annual_Report.pdf'}),\n",
       " Document(page_content='available evidence.', metadata={'page': 50, 'source': 'C://Users/pogawal/WorkFolder/Documents/Python Scripts/langchain_experiments/2023_Annual_Report.pdf'})]"
      ]
     },
     "execution_count": 30,
     "metadata": {},
     "output_type": "execute_result"
    }
   ],
   "source": [
    "docs"
   ]
  },
  {
   "cell_type": "code",
   "execution_count": 12,
   "metadata": {},
   "outputs": [],
   "source": [
    "qa = RetrievalQA.from_chain_type(\n",
    "    llm=llm,\n",
    "    chain_type=\"stuff\",\n",
    "    retriever=db.as_retriever(search_kwargs={\"k\": 8}),\n",
    "    return_source_documents=True,\n",
    "    verbose=False,\n",
    ")"
   ]
  },
  {
   "cell_type": "code",
   "execution_count": 13,
   "metadata": {},
   "outputs": [
    {
     "name": "stderr",
     "output_type": "stream",
     "text": [
      "c:\\App\\Anaconda\\Lib\\site-packages\\langchain_core\\_api\\deprecation.py:117: LangChainDeprecationWarning: The function `__call__` was deprecated in LangChain 0.1.0 and will be removed in 0.2.0. Use invoke instead.\n",
      "  warn_deprecated(\n"
     ]
    },
    {
     "name": "stdout",
     "output_type": "stream",
     "text": [
      "\n",
      "The Clean ABAP coding standard is a set of guidelines that aim to improve code quality and maintainability. It includes several rules, such as:\n",
      "\n",
      "1. Use consistent naming conventions: Use consistent naming conventions throughout your codebase to make it easier to understand and maintain.\n",
      "2. Keep comments brief: Write concise and meaningful comments to explain the purpose and behavior of each line of code.\n",
      "3. Avoid unnecessary complexity: Avoid adding unnecessary complexity to your code, as this can lead to maintenance issues in the future.\n",
      "4. Use consistent formatting: Use consistent formatting throughout your codebase to make it easier to read and understand.\n",
      "5. Test thoroughly: Thoroughly test your code before releasing it to production to ensure that it is reliable and bug-free.\n",
      "6. Follow coding conventions: Follow coding conventions such as indentation, spacing, and naming conventions to make your code more readable and maintainable.\n",
      "7. Use version control: Use version control systems like Git to track changes in your codebase and collaborate with other developers.\n",
      "8. Keep security in mind: Keep security in mind when writing code and follow best practices for secure coding.\n",
      "9. Use tools and libraries wisely: Use tools and libraries wisely, as they can help you write\n"
     ]
    }
   ],
   "source": [
    "res = qa(f\"\"\"\n",
    "    what are the rules for clean ABAP?.\n",
    "\"\"\")\n",
    "print(res[\"result\"])"
   ]
  },
  {
   "cell_type": "code",
   "execution_count": null,
   "metadata": {},
   "outputs": [],
   "source": [
    "res = qa(f\"\"\"\n",
    "    What should I do to have good robust ABAP code?\n",
    "\"\"\")\n",
    "print(res[\"result\"])"
   ]
  },
  {
   "cell_type": "code",
   "execution_count": null,
   "metadata": {},
   "outputs": [],
   "source": [
    "res = qa(f\"\"\"\n",
    "    What is a good method name in ABAP?\n",
    "\"\"\")\n",
    "print(res[\"result\"])"
   ]
  },
  {
   "cell_type": "code",
   "execution_count": null,
   "metadata": {},
   "outputs": [],
   "source": [
    "res = qa(f\"\"\"\n",
    "    What is clean ABAP?\n",
    "    Describe it in 5 sentences.\n",
    "\"\"\")\n",
    "print(res[\"result\"])"
   ]
  }
 ],
 "metadata": {
  "kernelspec": {
   "display_name": "base",
   "language": "python",
   "name": "python3"
  },
  "language_info": {
   "codemirror_mode": {
    "name": "ipython",
    "version": 3
   },
   "file_extension": ".py",
   "mimetype": "text/x-python",
   "name": "python",
   "nbconvert_exporter": "python",
   "pygments_lexer": "ipython3",
   "version": "3.11.4"
  }
 },
 "nbformat": 4,
 "nbformat_minor": 2
}
