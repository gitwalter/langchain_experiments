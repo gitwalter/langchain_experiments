{
 "cells": [
  {
   "cell_type": "code",
   "execution_count": 1,
   "metadata": {},
   "outputs": [],
   "source": [
    "from langchain_community.llms import GPT4All\n",
    "from IPython.display import display, Markdown\n",
    "\n",
    "llm_path = \"C://Users/pogawal/AppData/Local/nomic.ai/GPT4All/gpt4all-falcon-newbpe-q4_0.gguf\"\n",
    "\n",
    "llm = GPT4All(\n",
    "    model=llm_path\n",
    ")\n",
    "\n",
    "query = \"what are the rules for clean ABAP?\"\n",
    "\n",
    "answer = llm.invoke(query)\n",
    "\n",
    "display(Markdown(answer))  "
   ]
  },
  {
   "cell_type": "code",
   "execution_count": 6,
   "metadata": {},
   "outputs": [
    {
     "name": "stderr",
     "output_type": "stream",
     "text": [
      "c:\\App\\Anaconda\\Lib\\site-packages\\langchain_core\\_api\\deprecation.py:117: LangChainDeprecationWarning: The function `run` was deprecated in LangChain 0.1.0 and will be removed in 0.2.0. Use invoke instead.\n",
      "  warn_deprecated(\n"
     ]
    },
    {
     "name": "stdout",
     "output_type": "stream",
     "text": [
      "\n",
      "\n",
      "\u001b[1m> Entering new RetrievalQA chain...\u001b[0m\n"
     ]
    }
   ],
   "source": [
    "from langchain_community.embeddings import GPT4AllEmbeddings\n",
    "from langchain.vectorstores import DocArrayInMemorySearch\n",
    "from langchain_community.document_loaders import WebBaseLoader\n",
    "from langchain.chains import RetrievalQA\n",
    "\n",
    "\n",
    "gpt4all_embd = GPT4AllEmbeddings()\n",
    "loader = WebBaseLoader(\"https://github.com/SAP/styleguides/blob/main/clean-abap/CleanABAP.md\")\n",
    "document = loader.load()\n",
    "\n",
    "db = DocArrayInMemorySearch.from_documents(\n",
    "    document, \n",
    "    gpt4all_embd\n",
    ")\n",
    "\n",
    "retriever = db.as_retriever()\n",
    "\n",
    "qa_stuff = RetrievalQA.from_chain_type(\n",
    "    llm=llm, \n",
    "    chain_type=\"stuff\", \n",
    "    retriever=retriever, \n",
    "    verbose=True\n",
    ")\n",
    "\n",
    "query = \"what are the rules for clean ABAP?\"\n",
    "\n",
    "response = qa_stuff.run(query)\n",
    "display(Markdown(response))"
   ]
  },
  {
   "cell_type": "code",
   "execution_count": 5,
   "metadata": {},
   "outputs": [],
   "source": [
    "from langchain.indexes import VectorstoreIndexCreator"
   ]
  },
  {
   "cell_type": "code",
   "execution_count": 15,
   "metadata": {},
   "outputs": [],
   "source": [
    "\n",
    "from langchain.vectorstores import DocArrayInMemorySearch\n",
    "from IPython.display import display, Markdown\n",
    "\n",
    "# loader = WebBaseLoader(\"https://www.fielmann.it/de/ueber-uns/\")\n"
   ]
  },
  {
   "cell_type": "code",
   "execution_count": 6,
   "metadata": {},
   "outputs": [],
   "source": [
    "\n",
    "# query_result = gpt4all_embd.embed_query(scraped_document)"
   ]
  },
  {
   "cell_type": "code",
   "execution_count": 59,
   "metadata": {},
   "outputs": [],
   "source": [
    "from langchain.document_loaders import PyPDFLoader\n",
    "from langchain import PromptTemplate, LLMChain\n",
    "from langchain.embeddings import HuggingFaceEmbeddings\n",
    "from langchain.llms import GPT4All\n",
    "from langchain.text_splitter import RecursiveCharacterTextSplitter\n",
    "from langchain.vectorstores.faiss import FAISS\n",
    "from langchain.callbacks.base import BaseCallbackManager\n",
    "from langchain.callbacks.streaming_stdout import StreamingStdOutCallbackHandler"
   ]
  },
  {
   "cell_type": "code",
   "execution_count": 60,
   "metadata": {},
   "outputs": [],
   "source": [
    "embeddings = HuggingFaceEmbeddings(model_name='sentence-transformers/all-MiniLM-L6-v2')"
   ]
  },
  {
   "cell_type": "code",
   "execution_count": 61,
   "metadata": {},
   "outputs": [
    {
     "name": "stdout",
     "output_type": "stream",
     "text": [
      "loading indexes\n",
      "index loaded\n"
     ]
    }
   ],
   "source": [
    "# load vector store\n",
    "index_folder = \"C://Users/pogawal/AppData/Local/nomic.ai/GPT4All/\"\n",
    "print(\"loading indexes\")\n",
    "faiss_index = FAISS.load_local(index_folder, embeddings, allow_dangerous_deserialization=True)\n",
    "print(\"index loaded\")\n",
    "gpt4all_path = llm_path"
   ]
  },
  {
   "cell_type": "code",
   "execution_count": 71,
   "metadata": {},
   "outputs": [
    {
     "name": "stdout",
     "output_type": "stream",
     "text": [
      "[-0.013406478799879551, 0.04082554951310158, 0.012569662183523178, -0.026162032037973404, -0.010504364967346191, 0.014847401529550552, -0.054239582270383835, -0.02446012757718563, 0.01838114485144615, -0.04351133853197098, -0.03421737626194954, 0.08637978136539459, 0.030147815123200417, -0.010037769563496113, -0.0023224533069878817, -0.03213781863451004, 0.061662912368774414, -0.00844539050012827, 0.059175752103328705, -0.038822274655103683, -0.009966052137315273, 0.010132502764463425, 0.03442714735865593, -0.05400867015123367, 0.012166297994554043, -0.007845593616366386, -0.042520444840192795, 0.02513551525771618, -0.05110184848308563, 0.05328546091914177, 0.009579996578395367, -0.015024625696241856, -0.015008303336799145, -0.04779646918177605, -0.003723913338035345, -0.080539271235466, 0.0384184829890728, -0.007596736773848534, 0.03417510911822319, 0.031084608286619186, 0.0013238458195701241, 0.09114307165145874, -0.003534418297931552, -0.014812493696808815, 0.03282122686505318, -0.033822622150182724, 0.05139584094285965, 0.04968668520450592, 0.028474874794483185, -0.043201640248298645, -0.04306458681821823, 0.04594622924923897, -0.014890879392623901, -0.055591732263565063, -0.017074313014745712, 0.02160736545920372, -0.003944483585655689, -0.010170421563088894, -0.0015572451520711184, 0.03631587699055672, -0.02836340293288231, 0.031290359795093536, -0.04132460430264473, -0.040817826986312866, -0.007908893749117851, -0.0331602543592453, 0.022449899464845657, 0.039157986640930176, -0.06111717224121094, -0.05020919442176819, 0.02556273341178894, -0.012853605672717094, 0.031032562255859375, 0.03386643901467323, -0.08012973517179489, -0.010756116360425949, -0.030417371541261673, 0.009859893471002579, -0.0066390796564519405, 0.0026413339655846357, 0.07243281602859497, 0.013356535695493221, -0.06116007640957832, -0.007609373424202204, 0.04448172450065613, 0.02410406433045864, -0.009824569337069988, 0.030480138957500458, -0.034947313368320465, 0.01966511271893978, 0.019035911187529564, -0.03211088851094246, 0.03255551680922508, 0.03181309252977371, -0.08999385684728622, 0.010082563385367393, 0.021719878539443016, -0.008043422363698483, 0.006927453447133303, -0.08488626033067703, -0.028355680406093597, 0.043987248092889786, 0.007382651325315237, -0.037173524498939514, 0.04434414580464363, 0.04937220364809036, 0.021579675376415253, 0.015189701691269875, -0.05134351924061775, -0.008712220005691051, -0.08856524527072906, -0.01215702947229147, 0.03665585443377495, 0.030276302248239517, 0.0004343628534115851, -0.02213657647371292, 0.049224477261304855, -0.03516785427927971, 0.006149545311927795, 0.07355204224586487, -0.006342756096273661, -0.01144144032150507, 0.030277187004685402, 0.007062253076583147, -0.021045947447419167, -0.02905709110200405, -0.027996577322483063, 0.04339206963777542, -0.014697384089231491, 0.001432154094800353, 0.016170457005500793, 0.013129903934895992, -0.023597728461027145, -0.028685517609119415, 0.00829724594950676, 0.04389174282550812, 0.008075986057519913, -0.03199291229248047, 0.04590906947851181, -0.02534416690468788, 0.018478453159332275, 0.02448752149939537, 0.027941839769482613, -0.04528855159878731, 0.012726450338959694, -0.08600182086229324, 0.03365789353847504, -0.029741164296865463, -0.014978619292378426, -0.0003074622945860028, 0.00651838444173336, -0.008737568743526936, 0.0077917915768921375, 0.012211193330585957, -0.029222121462225914, -0.04130846634507179, -0.004897770006209612, 0.04758693277835846, 0.035911861807107925, 0.019275939092040062, 0.005396760068833828, -0.03542525693774223, -0.0035953240003436804, 0.05206776782870293, -0.02862320840358734, 0.007436710875481367, 0.018319085240364075, 0.010804756544530392, 0.025655832141637802, 0.051621463149785995, 0.02330024540424347, -0.055452875792980194, 0.03112136572599411, 0.0013859049649909139, 0.015162193216383457, 0.021605124697089195, 0.0595826655626297, -0.052351053804159164, -0.026859460398554802, -0.026622159406542778, 0.057130273431539536, -0.029110925272107124, 0.006680794060230255, 0.03814099356532097, -0.004198962356895208, -0.04011652246117592, -0.00029689722578041255, -0.030982809141278267, -0.08171818405389786, -0.016292011365294456, -0.05437830090522766, -0.0005500680417753756, 0.02909485623240471, -0.09596845507621765, -0.052861545234918594, -0.030853765085339546, 0.03849153220653534, 0.017267867922782898, 0.0528704933822155, -0.045754265040159225, 0.06205666810274124, 0.009329346008598804, -0.04683530330657959, 0.03068089671432972, -0.054055243730545044, 0.03269727900624275, -0.0051474617794156075, 0.0019443279597908258, -0.007242341060191393, -0.012295212596654892, 0.08612930029630661, 0.04317958280444145, -0.03737669810652733, 0.04487952962517738, -0.03100016340613365, 0.007381836883723736, -0.08712730556726456, 0.05009475350379944, -0.06849490851163864, 0.03912944346666336, 0.07764266431331635, 0.03770175203680992, -0.015467533841729164, -0.06319522857666016, 0.05444217100739479, 0.031183768063783646, -0.010926110669970512, -0.0392482727766037, -0.0034208272118121386, 0.006658188533037901, -0.0231160931289196, -0.0842018872499466, 0.021044740453362465, 0.00889822281897068, -0.004311295226216316, 0.045248985290527344, 0.0060778288170695305, 0.01717304065823555, 0.04093067720532417, 0.033680323511362076, 0.026741502806544304, 0.04437277466058731, 0.023921843618154526, -0.0050717000849545, -0.03185509145259857, 0.013317140750586987, -0.035865508019924164, -0.03608454018831253, 0.006054839119315147, 0.010055318474769592, -0.024067848920822144, 0.04644542932510376, 0.042731162160634995, 0.03392414748668671, 0.020711973309516907, -0.07721637189388275, -0.05346227437257767, 0.017831623554229736, -0.021024761721491814, -0.025560744106769562, 0.03673768416047096, -0.008686133660376072, 0.04002299904823303, -0.021968943998217583, -0.023834962397813797, -0.0052023520693182945, 0.010739566758275032, 0.043813303112983704, -0.014765650033950806, -0.04085986316204071, 0.008692237548530102, -0.02763906493782997, 0.0015321451937779784, 0.06219230219721794, -0.0032293975818902254, 0.01061366219073534, 0.002189472783356905, -0.03540559485554695, -0.003789891256019473, 0.017311809584498405, 0.0308474600315094, 0.003439788706600666, -0.02679438702762127, -0.04363781213760376, 0.0008275978034362197, -0.0035192936193197966, 0.044546086341142654, -0.020971423014998436, -0.0384986586868763, -0.011600309982895851, -0.03815725818276405, 0.02785627730190754, 0.011842571198940277, 0.1069815531373024, 0.011001544073224068, 0.0710679218173027, 0.0711572915315628, -0.0015814871294423938, 0.016281858086586, 0.0033182252664119005, 0.0358908474445343, -0.015748336911201477, -0.0210036002099514, 0.01817266270518303, 0.08595132827758789, -0.014058418571949005, 0.10704485327005386, 0.03569192439317703, 0.006578355561941862, -0.017376206815242767, -0.04735453426837921, 0.07884407788515091, -0.015189719386398792, 0.008934286423027515, -0.08216498792171478, -0.013153398409485817, 0.02502993680536747, 0.0037937520537525415, 0.05222199484705925, -0.02514229342341423, 0.016106484457850456, -0.022159120067954063, -0.03467616066336632, -0.06024951860308647, -0.012663593515753746, 0.04135426878929138, 0.022822432219982147, 0.03943602740764618, 0.009100537747144699, 0.007275949232280254, -0.00803800392895937, 0.06583905220031738, -0.07225679606199265, -0.01548482570797205, -0.015604207292199135, 0.034364521503448486, -0.030327944085001945, 0.03166186064481735, -0.0385935977101326, 0.020162902772426605, 0.026834983378648758, -0.011161187663674355, 0.0341322235763073, -0.024731764569878578, -0.006542991381138563, 0.003458909224718809, 0.008272876963019371, -0.022750867530703545, 0.028494535014033318, -0.06336433440446854, -0.04903516545891762, 0.041932862251996994, -0.02893024869263172, 0.0032801658380776644, -0.011111675761640072, 0.04965176060795784, -0.004437786992639303, -0.026155633851885796, 0.012922660447657108, 0.01703374832868576, 0.02335997112095356, -0.014718953520059586, 0.03843177855014801, 0.04007238894701004, 0.033481236547231674, 0.04029705375432968, -0.030150100588798523, 0.04689744487404823, 0.015844427049160004, -0.023028694093227386, 0.009439103305339813, -0.001623693504370749, 0.07299519330263138, 0.04829743504524231, 0.04331701621413231, 0.06462671607732773, -0.03148011118173599, 0.004410088527947664, 0.0027138707228004932, -0.06564339250326157, 0.026889171451330185, 0.03766420856118202, 0.03255433216691017, 0.008993213064968586, 0.006475765258073807, -0.013747258111834526, -0.02070675976574421, 0.029532238841056824, 0.009166118688881397, 0.026534615084528923, -0.004789971746504307, -0.02016505040228367, -0.05264668166637421, 0.005463366862386465, 0.005664156749844551, 0.02925189398229122, 0.06802882254123688, -0.03343489393591881, 0.0018233901355415583, 0.04091877490282059, -0.010244512930512428, 0.0002809054567478597, -0.0233945120126009, 0.003164119552820921, -0.03514331951737404, 0.08416876941919327, -0.0012841226998716593, -0.06692618876695633, 0.011862232349812984, -0.00018194707809016109, 0.017171580344438553, 0.03127763420343399, -0.011018499732017517, -0.009768515825271606, -0.025294104591012, 0.0023343535140156746, 0.0138782924041152, -0.03927771747112274, -0.06123119592666626, -0.008351796306669712, 0.00943347904831171, -0.001000377582386136, -0.03736916556954384, -0.023793520405888557, -0.07242633402347565, -0.05187897011637688, 0.05543537437915802, 0.05206117779016495, -0.004950311966240406, -0.05454149469733238, -0.012869994156062603, 0.01934564858675003, 0.013242867775261402, 0.023167375475168228, 0.002259182510897517, 0.006901491899043322, 0.026615707203745842, 0.041863586753606796, 0.0038497215136885643, 0.05490592494606972, -0.013598511926829815, -0.02618745155632496, 0.010799568146467209, 0.0342552624642849, -0.014007280580699444, 0.05445822700858116, 0.07787177711725235, -0.018895940855145454, -0.04661150649189949, -0.005103200674057007, 0.04362468048930168, 0.06611253321170807, 0.003295336151495576, 0.008024297654628754, 0.035535987466573715, 0.015004782937467098, -0.055519577115774155, -0.024570170789957047, 0.03522738069295883, 0.02220616303384304, 0.013142632320523262, 0.02279156818985939, -0.022273296490311623, 0.031023994088172913, 0.0057723019272089005, -0.008851435966789722, 0.029322773218154907, -0.031207675114274025, -0.039019618183374405, 0.01198793388903141, -0.006433740723878145, 0.03293821960687637, 0.032149188220500946, 0.08638714998960495, -0.010354985482990742, -0.01478488091379404, 0.024333694949746132, -0.027939211577177048, 0.03944452479481697, -0.00679771276190877, 0.004810285288840532, -0.036054085940122604, -0.06909769028425217, -0.03169205039739609, -0.008258615620434284, 0.03392744064331055, 0.0548340305685997, -0.0021450959611684084, 0.022331491112709045, -0.019680840894579887, 0.006475001107901335, 0.05617878958582878, 0.027132347226142883, -0.022979041561484337, -0.05707113444805145, -0.03835155442357063, -0.010137458331882954, 0.006027001887559891, -0.0007414124556817114, -0.01503242552280426, -0.01295252051204443, 0.007086531259119511, -0.0024979112204164267, 0.015924951061606407, 0.029851233586668968, 0.018066851422190666, -0.006164742633700371, -0.09650006890296936, -0.01348043605685234, 0.0242728553712368, -0.04709206148982048, 0.014627974480390549, 0.015237679705023766, 0.003259549615904689, -0.0023730210959911346, -0.024564797058701515, 0.059571631252765656, 0.013958641327917576, -0.06348215788602829, 0.024185948073863983, -0.030984953045845032, -0.022647380828857422, 0.008138936944305897, 0.08595197647809982, -0.007284733932465315, -0.019187098369002342, -0.037910096347332, -0.02931194193661213, 0.018758730962872505, -0.04846123605966568, -0.013302435167133808, -0.014958787709474564, -0.012083546258509159, 0.006783389952033758, 0.02110360376536846, -0.011169234290719032, -0.04568147659301758, 0.04010426253080368, -0.03717023506760597, -0.0005320867639966309, -0.027180610224604607, 0.01893090456724167, 0.017458803951740265, 0.02752850204706192, -0.014658540487289429, -0.06608313322067261, -0.03370827063918114, 0.03782438114285469, -0.04104069247841835, -0.04172343760728836, 0.060567714273929596, 0.013818714767694473, -0.015581067651510239, -0.04112090542912483, 0.046094950288534164, -0.05735832825303078, 0.02511025033891201, 0.02737528085708618, -0.014804061502218246, -0.04250556603074074, 0.005827105138450861, 0.012787171639502048, 0.03836507722735405, -0.013876835815608501, 0.04489799216389656, -0.0646282359957695, -0.05141069367527962, 0.05449557304382324, 0.008180481381714344, -0.05265618860721588, -0.024105001240968704, -0.009380117058753967, -0.06404968351125717, -0.004022675566375256, 0.03695450723171234, -0.033816978335380554, 0.039559122174978256, 0.017269564792513847, -0.05496935546398163, 0.013838449493050575, -0.007030895445495844, -0.0007019064505584538, -0.0563044548034668, 0.02501511760056019, -0.10302940011024475, 0.021972717717289925, 0.00880447681993246, 0.007051181513816118, 0.03397952765226364, -0.02580939047038555, -0.03279581293463707, -0.0029270313680171967, -0.0217011459171772, -0.045356787741184235, -0.023040328174829483, -0.0055152433924376965, -0.05850648880004883, -0.04430946707725525, -0.00939899031072855, -0.013047978281974792, 0.05576654151082039, -0.0010410036193206906, 0.08964145183563232, -0.01998738758265972, -0.005513695068657398, 0.0750821977853775, -0.025721926242113113, -0.0012073450488969684, -0.03385305777192116, -0.06077415496110916, 0.011940976604819298, 0.01295055728405714, 0.011253454722464085, -0.028713373467326164, -0.007196861319243908, -0.02084391750395298, -0.012230134569108486, -0.05577163025736809, 0.028994115069508553, -0.005637792870402336, -0.015550262294709682, -0.07573159039020538, -0.0033388277515769005, -0.06317564845085144, -0.001987248891964555, 0.01786971651017666, -0.015252684243023396, -0.04263763874769211, 0.0012299095978960395, 0.025476105511188507, 0.02332436479628086, 0.037856604903936386, -0.0411677286028862, -0.057699449360370636, -0.027231406420469284, 0.00828480813652277, -0.10269490629434586, -0.033699747174978256, -0.018785880878567696, 0.058185093104839325, 0.08358711004257202, 0.010371399112045765, -0.011127876117825508, 0.02988247573375702, 0.05792712792754173, 0.016832733526825905, -0.02154271863400936, -0.009761457331478596, 0.060372646898031235, -0.010150819085538387, 0.04049612581729889, 0.04345650598406792, -0.04481528699398041, 0.017289550974965096, 0.01554921641945839, 0.004560436122119427, 0.01326284185051918, -0.03118281066417694, -0.006521780509501696, 0.019696775823831558, -0.006111329887062311, -0.053069762885570526, -0.0007764037582091987, 0.009190154261887074, 0.003173105651512742, -0.03345445916056633, -0.026170726865530014, -0.048398468643426895, -0.043545909225940704, 0.01827453076839447, -0.03788013756275177, -0.026175841689109802, -0.021348023787140846, -0.03735807538032532, -0.0005970514612272382, 0.021908383816480637, -0.018752511590719223, 0.05394779145717621, 0.01956263929605484, -0.0020882270764559507, -0.018965912982821465, -0.02216700091958046, -0.025723105296492577, -0.03732747212052345, -0.07044421136379242, 0.05560968816280365, 0.03209847956895828, 0.0005947558092884719, -0.0026301690377295017, -0.04906622692942619, -0.019596394151449203, 0.01901688426733017, 0.020315855741500854, -0.08164949715137482, -0.007188021671026945, -0.04456380009651184, -0.07349558174610138, -0.016989892348647118, 0.03835250809788704, 0.028327448293566704, 0.030512826517224312, 0.04923579469323158, 0.016391798853874207, 0.04439052566885948, 0.009059373289346695, -0.030008364468812943, 0.0026269785594195127, 0.029328100383281708, -0.051256317645311356, -0.027437489479780197, 0.03321973979473114, 0.019376209005713463, 0.1055925115942955, 0.04473070800304413, 0.014101001434028149, 0.009528812021017075, 0.026737777516245842, -0.009736954234540462, 0.0013443079078570008, -0.0367465540766716, 0.04984831064939499, -0.010061894543468952, -0.06735073029994965, 0.015640249475836754, -0.04306580871343613, -0.00407736049965024, -0.004898835439234972, -0.04136615991592407, 0.015251451171934605, 0.015686076134443283, -0.02236250415444374, -0.006489672232419252, -0.017461318522691727, 0.051535408943891525, -0.02070092409849167, -0.018322743475437164, -0.03394780308008194, 0.037365615367889404, -0.013570569455623627, 0.043804775923490524, 0.00849610473960638, -0.03241414204239845, 0.013659999705851078, 0.07322604209184647, -0.0139313330873847, 0.008740992285311222, -0.004718093667179346, 0.027156582102179527, 0.06841593980789185, 0.02614099718630314, -0.02735813334584236, 0.059105344116687775, -0.01539612002670765, 0.013492251746356487, -0.0256415456533432, 0.03918714076280594, -0.06889819353818893, 0.025332743301987648, 0.015434668399393559, -0.023704281076788902, 0.03977624326944351, -0.010751176625490189, 0.01587098464369774, 0.001486703404225409, -0.025948604568839073, -0.005246202927082777, -0.06287075579166412, -0.001417985768057406]\n"
     ]
    }
   ],
   "source": [
    "from gpt4all import Embed4All\n",
    "text = 'The quick brown fox jumps over the lazy dog'\n",
    "# embedder = Embed4All(device='cpu')\n",
    "embedder = Embed4All('nomic-embed-text-v1.f16.gguf')\n",
    "output = embedder.embed(text)\n",
    "print(output)"
   ]
  },
  {
   "cell_type": "code",
   "execution_count": null,
   "metadata": {},
   "outputs": [],
   "source": [
    "from IPython.display import display, Markdown\n",
    "question = \"Tell me about error handling\"\n",
    "matched_docs = faiss_index.similarity_search(question, 4)\n",
    "context = \"\"\n",
    "for doc in matched_docs:\n",
    "    context = context + doc.page_content + \" \\n\\n \"\n",
    "\n",
    "display(Markdown(context))    "
   ]
  },
  {
   "cell_type": "code",
   "execution_count": 72,
   "metadata": {},
   "outputs": [],
   "source": [
    "from langchain_community.document_loaders import WebBaseLoader\n",
    "from langchain_text_splitters import RecursiveCharacterTextSplitter\n",
    "\n",
    "loader = WebBaseLoader(\"https://www.fielmann-group.com/ueber-uns/\")\n",
    "data = loader.load()\n",
    "\n",
    "text_splitter = RecursiveCharacterTextSplitter(chunk_size=500, chunk_overlap=0)\n",
    "all_splits = text_splitter.split_documents(data)"
   ]
  },
  {
   "cell_type": "code",
   "execution_count": 73,
   "metadata": {},
   "outputs": [],
   "source": [
    "from langchain_community.embeddings import GPT4AllEmbeddings\n",
    "from langchain_community.vectorstores import Chroma\n",
    "\n",
    "vectorstore = Chroma.from_documents(documents=all_splits, embedding=GPT4AllEmbeddings())"
   ]
  },
  {
   "cell_type": "code",
   "execution_count": 74,
   "metadata": {},
   "outputs": [
    {
     "name": "stderr",
     "output_type": "stream",
     "text": [
      "c:\\App\\Anaconda\\Lib\\site-packages\\pydantic\\_migration.py:283: UserWarning: `pydantic.error_wrappers:ValidationError` has been moved to `pydantic:ValidationError`.\n",
      "  warnings.warn(f'`{import_path}` has been moved to `{new_location}`.')\n"
     ]
    }
   ],
   "source": [
    "from langchain.embeddings import GPT4AllEmbeddings\n",
    "from langchain.indexes import VectorstoreIndexCreator\n",
    "from langchain.vectorstores import DocArrayInMemorySearch\n",
    "embeddings = GPT4AllEmbeddings()\n",
    "index_fielmann = VectorstoreIndexCreator(\n",
    "    vectorstore_cls=DocArrayInMemorySearch,\n",
    "    embedding=embeddings,\n",
    ").from_loaders([loader])"
   ]
  },
  {
   "cell_type": "code",
   "execution_count": null,
   "metadata": {},
   "outputs": [],
   "source": [
    "index_fielmann"
   ]
  },
  {
   "cell_type": "code",
   "execution_count": 75,
   "metadata": {},
   "outputs": [
    {
     "data": {
      "text/markdown": [
       " Die Fielmann AG ist ein börsennotiertes Familienunternehmen, das sich auf augenoptische Dienstleistungen wie Brillen, Kontaktlinsen und Hörsysteme konzentriert. Sie ist der größte Augenoptiker in Zentraleuropa und versorgt Kunden europaweit mit ihren Produkten."
      ],
      "text/plain": [
       "<IPython.core.display.Markdown object>"
      ]
     },
     "metadata": {},
     "output_type": "display_data"
    }
   ],
   "source": [
    "from langchain.llms import GPT4All\n",
    "mistral_openorca = \"mistral-7b-openorca.gguf2.Q4_0.gguf\"\n",
    "llm_path = \"C://Users/pogawal/AppData/Local/nomic.ai/GPT4All/\" + mistral_openorca\n",
    "\n",
    "llm = GPT4All(model=llm_path)\n",
    "query = \"Was macht die Fielmann AG?\"\n",
    "response = index_fielmann.query(query, llm=llm)\n",
    "display(Markdown(response))"
   ]
  },
  {
   "cell_type": "code",
   "execution_count": null,
   "metadata": {},
   "outputs": [],
   "source": [
    "from langchain_core.output_parsers import StrOutputParser\n",
    "from langchain_core.prompts import PromptTemplate\n",
    "\n",
    "\n",
    "\n",
    "mistral_nous = \"Nous-Hermes-2-Mistral-7B-DPO.Q4_0.gguf\"\n",
    "falcon = \"gpt4all-falcon-newbpe-q4_0.gguf\"\n",
    "\n",
    "\n",
    "\n",
    "# Prompt\n",
    "prompt = PromptTemplate.from_template(\n",
    "    \"Summarize the main themes in these retrieved docs: {docs}\"\n",
    ")\n",
    "\n",
    "\n",
    "# Chain\n",
    "def format_docs(docs):\n",
    "    return \"\\n\\n\".join(doc.page_content for doc in docs)\n",
    "\n",
    "\n",
    "chain = {\"docs\": format_docs} | prompt | llm | StrOutputParser()\n",
    "\n",
    "# Run\n",
    "question = \"Was macht die Fielmann AG?\"\n",
    "docs = vectorstore.similarity_search(question)\n",
    "chain.invoke(docs)"
   ]
  },
  {
   "cell_type": "code",
   "execution_count": 15,
   "metadata": {},
   "outputs": [],
   "source": [
    "from langchain.text_splitter import RecursiveCharacterTextSplitter\n",
    "from langchain_community.document_loaders import WebBaseLoader\n",
    "from langchain_community.vectorstores import    \n",
    "from langchain.embeddings import HuggingFaceEmbeddings\n",
    "# from langchain_openai import OpenAIEmbeddings\n",
    "\n",
    "loader = WebBaseLoader(\"https://neurons-lab.com/\")\n",
    "docs = loader.load()\n",
    "documents = RecursiveCharacterTextSplitter(\n",
    "    chunk_size=1000, chunk_overlap=200\n",
    ").split_documents(docs)\n",
    "\n",
    "\n",
    "embeddings = HuggingFaceEmbeddings(\n",
    "    model_name=\"sentence-transformers/all-MiniLM-L6-v2\"\n",
    ")\n",
    "\n",
    "vector = FAISS.from_documents(documents, embeddings)\n",
    "retriever = vector.as_retriever()"
   ]
  },
  {
   "cell_type": "code",
   "execution_count": 47,
   "metadata": {},
   "outputs": [
    {
     "name": "stdout",
     "output_type": "stream",
     "text": [
      "11\n"
     ]
    }
   ],
   "source": [
    "print(vector.index.ntotal)"
   ]
  },
  {
   "cell_type": "code",
   "execution_count": 54,
   "metadata": {},
   "outputs": [
    {
     "data": {
      "text/plain": [
       "'FinTech\\n\\n\\n\\n\\n\\n\\n\\n\\n\\nAccelerate Remote Patient Monitoring and Care Management with IoT Medical Devices on the AWS Cloud\\n\\n                                                    Jul 26, 2023|6 min read                                                \\n\\n\\nAWS\\n\\n\\nCustomer Experience\\n\\n\\nHealthTech\\n\\n\\n\\n\\n\\n\\n\\n\\n\\nAI-based Predictive Maintenance Playbook\\n\\n                                                    Jul 26, 2023|7 min read                                                \\n\\n\\nPredictive maintenance\\n\\n\\n\\n\\n\\n\\n\\n\\n\\nCreate an MLOps Strategy to Advance Machine Learning Apps\\n\\n                                                    Jul 26, 2023|6 min read                                                \\n\\n\\nMLOps\\n\\n\\n\\n\\n\\n\\n\\n\\n\\nInnovations and AI Technological Advancement in the Nutrition & Weight Management Industry\\n\\n                                                    Jul 26, 2023|6 min read                                                \\n\\n\\nCustomer Experience\\n\\n\\nHealthTech'"
      ]
     },
     "execution_count": 54,
     "metadata": {},
     "output_type": "execute_result"
    }
   ],
   "source": [
    "# query = 'What does Neurons Lab?'\n",
    "query = 'IoT'\n",
    "result = vector.similarity_search_with_score(query)\n",
    "# page_contents = [item.page_content for item in result]\n",
    "# page_contents\n",
    "result[0][0].page_content"
   ]
  },
  {
   "cell_type": "code",
   "execution_count": 8,
   "metadata": {},
   "outputs": [
    {
     "data": {
      "text/plain": [
       "[Document(page_content=\"\\n\\n\\n\\n\\n\\n\\n\\n\\nNeurons Lab | Home\\n\\n\\n\\n\\n\\n\\n\\n\\n\\n\\n\\n\\n\\n\\n\\n\\n\\n\\n\\n\\n\\n\\n\\n\\n\\n\\n \\n\\n\\n\\nYour vision\\nOur expertise\\nSecret sauce*\\n\\n\\n                            Recipe                            \\n\\n\\n\\nPartner with us\\n\\n\\n                                for INNOVATION                                                    \\nWe are AI solution development experts for fast-growing companies seeking innovation through collaboration.\\n\\n\\n\\n\\n\\n\\n\\n\\n\\n\\n\\n\\n\\n\\n\\n\\n\\n\\n\\n\\n\\n\\nHealthTech\\nCleanTech\\nRetailTech\\n\\n\\n\\n\\n\\nAWS Certified Advanced partner\\r\\nand Generative AI competency holder\\n\\n\\n\\n\\n\\n\\nAI2 = Accelerators2 + \\r\\nHandbook2\\n\\n\\nAI feasibility analysis\\nDiscover\\n\\n\\nAI solution engineering\\nLaunch\\n\\n\\nAI operations management\\nScale\\n\\n\\n\\n\\n\\nSuccess =(Execution x Talent) / \\r\\n(Uncertainty x Time)\\n\\nAll  stories\\n\\n                                    1 — 6                                    \\n\\n\\n\\n\\n\\n\\n\\n\\n\\n\\n\\nCreative Practice Solutions : Developing an AI-Driven Medical Transcription & Billing System                                                \\n\\n\\nHealthTech\\n\\n\\n\\nExplore story\\n\\n\\n\\n\\n\\n\\n\\n\\n\\n\\n\\n\\n\\n\\n\\nCHORD X: Creating a predictive maintenance solution for the shipping industry                                                \\n\\n\\nCleantech\\n\\n\\n\\nExplore story\\n\\n\\n\\n\\n\\n\\n\\n\\n\\n\\n\\n\\n\\n\\n\\niPlena: Transforming user experience in physiotherapy                                                \\n\\n\\nHealthTech\\n\\n\\n\\nExplore story\\n\\n\\n\\n\\n\\n\\n\\n\\n\\n\\n\\n\\n\\n\\n\\nHealthTech client: Building a Remote Patient Monitoring system for health providers                                                \\n\\n\\nHealthTech\\n\\n\\n\\nExplore story\\n\\n\\n\\n\\n\\n\\n\\n\\n\\n\\n\\n\\nCleanTech client: Developing Machine learning models to predict PV output and consumption                                                \\n\\n\\nCleantech\\n\\n\\n\\nExplore story\\n\\n\\n\\n\\n\\n\\n\\n\\n\\n\\n\\n\\nHealthTech client: Understanding impact of genetic factors in SARS-CoV-2 infection development                                                \\n\\n\\nHealthtech\\n\\n\\n\\nExplore story\\n\\n\\n\\n\\n\\n\\n\\n\\n\\n\\n\\n\\n\\n\\n\\n\\n\\n\\nYour solution evolution\\xa0=last solution + \\r\\npace * d(market feedback) / d(last solution)\\n\\n\\n\\n\\n\\n\\n                                        Our proprietary R&D solutions delivery handbook is tailored for rapid response to feedback and agile adaptation according to new environmental conditions.                                    \\n\\n\\n\\n\\n\\n\\n\\n\\n\\n\\n\\n\\n\\n\\n\\n\\n\\n\\n\\n\\n\\n\\n\\n\\n\\n\\n\\n\\n\\n\\n\\n\\n\\n\\n\\n\\n\\n\\n\\n\\n\\n\\n\\n\\n\\n\\n\\n\\n\\n\\n\\n\\n\\n\\n\\n\\n\\n\\n\\n\\n\\n\\n\\n\\n\\n\\n\\n\\n\\n\\n\\n\\n\\n\\n\\n\\n\\n\\n\\n\\n\\n\\n\\n\\n\\n\\n\\n\\n\\n\\n\\n\\n\\n\\n\\n\\n\\n\\n\\n\\n\\n\\n\\n\\n\\n\\n\\n\\n\\n\\n\\n\\n\\n\\n\\n\\n\\n\\n\\n\\n\\n\\n\\n\\n\\n\\n\\n\\n\\n\\n\\n\\n\\n\\n\\n\\n\\n\\n\\n\\n\\n\\n\\n\\n\\n\\n\\n\\n\\n\\n\\n\\n\\n\\n\\n\\n\\n\\n\\n\\n\\n\\n\\n\\n\\n\\n\\n\\n\\n\\n\\n\\n\\n\\n\\n\\n\\n\\n\\n\\n\\n\\n\\n\\n\\n\\n\\n\\n\\n\\n\\n\\n\\n\\n\\n\\n\\n\\n\\n\\n\\n\\n\\n\\n\\n\\n\\n\\n\\n\\n\\n\\n\\n\\n\\n\\n\\n\\n\\n\\n\\n\\n\\n\\n\\n\\n\\n\\n\\n\\n\\n\\n\\n\\n\\n\\n\\n\\n\\n\\n\\n\\n\\n\\n \\n\\n\\n\\n\\n\\n\\nThree missing ingredients will multiply your efforts by 10x. That's the secret of a well-implemented AI solution.\\n\\n\\n\\n\\nFundamental science \\n\\nYour innovation happens on the frontier of applied science. We bring AI engineers together with PhDs in physics, mathematics, chemistry and biology to apply theory to real-world products.\\n\\n\\n\\nFundamental science\\n\\n\\nDesign Thinking\\n\\n\\nAI Engineering\\n\\n\\n\\nDesign\\n\\nBuild\\n\\nTest\\n\\nLearn\\n\\n\\n\\n\\n\\n\\nDesign Thinking \\n\\nYour end customers and their pains are always in focus. Our Product Owners apply significant business acumen and Agile methodology to 10x your end-user experience, customer service, marketing, and sales.\\n\\n\\n\\nFundamental science\\n\\n\\nDesign Thinking\\n\\n\\nAI Engineering\\n\\n\\n\\nDesign\\n\\nBuild\\n\\nTest\\n\\nLearn\\n\\n\\n\\n\\n\\n\\nAI Engineering \\n\\nThe brightest scientific theories and the boldest business ideas need flawless execution. Our Cloud and Engineering team ensures that leading industrial practices are always at your disposal.\\n\\n\\n\\nFundamental science\\n\\n\\nDesign Thinking\\n\\n\\nAI Engineering\\n\\n\\n\\nDesign\\n\\nBuild\\n\\nTest\\n\\nLearn\\n\\n\\n\\n\\n\\n\\n\\n\\n\\n\\n\\nFundamental science\\n\\n\\nDesign Thinking\\n\\n\\nAI Engineering\\n\\n\\n\\nDesign\\n\\nBuild\\n\\nTest\\n\\nLearn\\n\\n\\n\\n\\n\\n\\n\\n\\n\\n\\n\\n\\n\\n\\n\\n\\n\\n\\n\\n\\n\\n\\n\\n\\n\\n\\n\\nAccelerators = d(speed today - speed yesterday) / d(time for feedback)\\n\\nOur pre-built solution accelerators speed development and help you adapt quickly to market needs. AI is the flywheel that makes every feedback iteration faster than the previous one. No magic, just math.\\n\\n\\n\\nRelease & scale faster\\nWe make implementation ultra-fast by deploying and customizing pre-developed solutions in NLP, computer vision, time series, and Recommender systems.\\nWe also share our proprietary handbooks of best practices to help your team hit the ground running. Collaboration is the only way to effectively implement innovation.\\n\\n\\nWork with experts\\nOur expertise lies at the intersection of AI, advanced science, and business. Using a Talent Pool of over 500 highly skilled individuals, we quickly assemble teams of PhD-level applied scientists, recognized DS/ML/AI Engineers, and MLOps who specialize in developing solutions for your industry.\\n\\n\\nGrow your business & attract clients \\nDo you also seek development opportunities or funding? Thanks to our advanced-tier AWS partnership and access to a vast VC network, we can aid your company in obtaining grants and other assistance.\\n\\n\\n\\n\\n\\n\\n\\n\\n\\n\\n\\n\\n\\n\\n\\n\\n\\n\\n\\n\\n\\n\\n\\n\\n\\n\\n\\n\\n\\n\\n\\n\\n\\n\\n\\n\\n\\n\\n\\n\\n\\n\\n\\n\\n\\n\\n\\n\\n\\n\\n\\n\\n\\n\\n\\n\\n\\n\\n\\n\\n\\n\\n\\n\\n\\n\\n\\n\\n \\n\\n\\n\\n\\nRelease & scale faster\\nWe make implementation ultra-fast by deploying and customizing pre-developed solutions in NLP, computer vision, time series, and Recommender systems.\\nWe also share our proprietary handbooks of best practices to help your team hit the ground running. Collaboration is the only way to effectively implement innovation.\\n\\n\\n\\n\\n\\n\\n\\n\\n\\n\\n\\n\\n\\n\\n\\n\\n\\n\\n\\n\\n\\n\\n\\n\\n\\n\\n\\n\\n\\n\\n\\n\\n\\n\\n\\n\\n\\n\\n\\n\\n\\n\\n\\n\\n\\n\\n\\n\\n\\n\\n\\n\\n\\n\\n\\n\\n\\n\\n\\n\\n\\n\\n\\n\\n \\n\\n\\n\\n\\nWork with experts\\nOur expertise lies at the intersection of AI, advanced science, and business. Using a Talent Pool of over 500 highly skilled individuals, we quickly assemble teams of PhD-level applied scientists, recognized DS/ML/AI Engineers, and MLOps who specialize in developing solutions for your industry.\\n\\n\\n\\n\\n\\n\\n\\n\\n\\n\\n\\n\\n\\n\\n\\n\\n\\n\\n\\n\\n\\n\\n\\n\\n\\n\\n\\n\\n\\n\\n\\n\\n\\n\\n\\n\\n\\n\\n\\n\\n\\n\\n\\n\\n\\n\\n\\n\\n\\n\\n\\n\\n\\n\\n\\n\\n\\n\\n\\n\\n\\n\\n\\n\\n \\n\\n\\n\\n\\nGrow your business & attract clients \\nDo you also seek development opportunities or funding? Thanks to our advanced-tier AWS partnership and access to a vast VC network, we can aid your company in obtaining grants and other assistance.\\n\\n\\n\\n\\n\\n\\n\\n\\n\\n\\n\\n\\n\\n\\n\\n\\n\\nTalk to our expert team from Europe\\nGet in touch\\n\\n\\n\\n\\n\\n\\n\\n\\nTalk to our expert team from USA\\nGet in touch\\n\\n\\n\\n\\n\\nArticles = mass of insights /\\r\\nvolume of experience\\n\\nALL POSTINGS\\n\\n                                    1 — 6                                    \\n\\n\\n\\n\\n\\n\\n\\n\\n\\n\\n\\nAI for portfolio management: from Markowitz to Reinforcement Learning\\n\\n                                                    Jul 16, 2023|11 min read                                                \\n\\n\\nFinTech\\n\\n\\n\\n\\n\\n\\n\\n\\n\\nAccelerate Remote Patient Monitoring and Care Management with IoT Medical Devices on the AWS Cloud\\n\\n                                                    Jul 26, 2023|6 min read                                                \\n\\n\\nAWS\\n\\n\\nCustomer Experience\\n\\n\\nHealthTech\\n\\n\\n\\n\\n\\n\\n\\n\\n\\nAI-based Predictive Maintenance Playbook\\n\\n                                                    Jul 26, 2023|7 min read                                                \\n\\n\\nPredictive maintenance\\n\\n\\n\\n\\n\\n\\n\\n\\n\\nCreate an MLOps Strategy to Advance Machine Learning Apps\\n\\n                                                    Jul 26, 2023|6 min read                                                \\n\\n\\nMLOps\\n\\n\\n\\n\\n\\n\\n\\n\\n\\nInnovations and AI Technological Advancement in the Nutrition & Weight Management Industry\\n\\n                                                    Jul 26, 2023|6 min read                                                \\n\\n\\nCustomer Experience\\n\\n\\nHealthTech\\n\\n\\n\\n\\n\\n\\n\\n\\n\\nPredictive maintenance for smart warranty service of PV Inverters\\n\\n                                                    Jul 26, 2023|6 min read                                                \\n\\n\\nPredictive maintenance\\n\\n\\n\\n\\n\\n\\n\\n\\n\\n\\n\\n\\nWe collaborate with companies across a broad range of industries to create innovative solutions including HealthTech, CleanTech and Retail. Care to join?\\n\\n\\n\\n\\n\\nYes, I am interested\\n\\n\\n\\n\\n\\n\\n\\n\\n\\n\\n\\nGet in touch\\n\\n\\n\\n\\n\\n\\n\\n\\nServices\\n\\n\\nAI feasibility analysis\\n\\n\\nAI solution engineering\\n\\n\\nAI operations management\\n\\n\\nGenerative AI Solutions\\n\\n\\nGenAI Acceleration Workshop\\n\\n\\n\\n\\nCo-labs\\n\\n\\nCompany\\n\\n\\nArticles\\n\\n\\nTalents\\n\\n\\nGet in touch\\n\\n\\n\\n\\n \\n\\n\\n\\n*Traditionally, a recipe for any secret sauce is never written down. It’s only shared face to face with those closest to us.\\n\\n\\n\\nPrivacy Notice\\n Cookie Notice\\n\\n\\n\\n\\n[email\\xa0protected]\\n +44 330 027 2146\\n\\n\\n\\nInternational House, 64 Nile Str,\\r\\nLondon, N1 7SR, United Kingdom\\n\\n\\n\\n\\n\\n\\n\\n\\n\\n\\n\\n© 2024 Neurons Lab LTD. Registered in England and Wales, \\r\\nCompany Number 12265479\\nCreatedby twid\\n\\n\\n \\n\\n\\n\\n\\n\\n\\n\\n\\n\\n\\n\\n\\n\\n\\n\\n\\n\", metadata={'source': 'https://neurons-lab.com/', 'title': 'Neurons Lab | Home', 'description': 'Welcome to Neurons Lab. We support fast-growing companies seeking AI solutions through collaboration.', 'language': 'en'})]"
      ]
     },
     "execution_count": 8,
     "metadata": {},
     "output_type": "execute_result"
    }
   ],
   "source": [
    "docs"
   ]
  }
 ],
 "metadata": {
  "kernelspec": {
   "display_name": "base",
   "language": "python",
   "name": "python3"
  },
  "language_info": {
   "codemirror_mode": {
    "name": "ipython",
    "version": 3
   },
   "file_extension": ".py",
   "mimetype": "text/x-python",
   "name": "python",
   "nbconvert_exporter": "python",
   "pygments_lexer": "ipython3",
   "version": "3.11.4"
  }
 },
 "nbformat": 4,
 "nbformat_minor": 2
}
